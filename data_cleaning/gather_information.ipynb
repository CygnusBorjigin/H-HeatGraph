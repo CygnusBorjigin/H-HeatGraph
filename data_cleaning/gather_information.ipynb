{
 "cells": [
  {
   "cell_type": "code",
   "execution_count": 10,
   "metadata": {},
   "outputs": [],
   "source": [
    "import os\n",
    "import csv\n",
    "import json\n",
    "import requests\n",
    "from tqdm import tqdm\n",
    "from statistics import mean\n",
    "import matplotlib.pyplot as plt"
   ]
  },
  {
   "cell_type": "code",
   "execution_count": 15,
   "metadata": {},
   "outputs": [],
   "source": [
    "stations = []\n",
    "with open(\"all_processed.csv\", \"r\") as data_file:\n",
    "    result = list(csv.reader(data_file))\n",
    "    for each_entry in result[1:]:\n",
    "        stations.extend([[(each_entry[0], each_entry[1], each_entry[2], ),(float(each_entry[3]), float(each_entry[4])), (float(each_entry[5]), float(each_entry[6])), (float(each_entry[7]), float(each_entry[8])), (float(each_entry[9]), float(each_entry[10])), (float(each_entry[11]), float(each_entry[12]))]])\n",
    "    data_file.close()"
   ]
  },
  {
   "cell_type": "code",
   "execution_count": 18,
   "metadata": {},
   "outputs": [
    {
     "data": {
      "text/plain": [
       "[('ALY', '69', '10'),\n",
       " (-73.6674676, 41.5933297),\n",
       " (-73.6720435, 41.571754399999996),\n",
       " (-73.6432174, 41.56833099999999),\n",
       " (-73.63863549999999, 41.58990599999999),\n",
       " (-73.6674676, 41.5933297)]"
      ]
     },
     "execution_count": 18,
     "metadata": {},
     "output_type": "execute_result"
    }
   ],
   "source": [
    "stations[0]"
   ]
  },
  {
   "cell_type": "code",
   "execution_count": 19,
   "metadata": {},
   "outputs": [
    {
     "data": {
      "text/plain": [
       "<matplotlib.collections.PathCollection at 0x1160cd7b0>"
      ]
     },
     "execution_count": 19,
     "metadata": {},
     "output_type": "execute_result"
    },
    {
     "data": {
      "image/png": "[encoded data removed]",
      "text/plain": [
       "<Figure size 432x288 with 1 Axes>"
      ]
     },
     "metadata": {
      "needs_background": "light"
     },
     "output_type": "display_data"
    }
   ],
   "source": [
    "test_coordinate = stations[1][1:]\n",
    "x_center = mean([test_coordinate[1][0], test_coordinate[3][0]])\n",
    "y_center = mean([test_coordinate[0][1], test_coordinate[2][1]])\n",
    "test_coordinate.append((x_center, y_center))\n",
    "plt.scatter([i[0] for i in test_coordinate], [i[1] for i in test_coordinate])"
   ]
  },
  {
   "cell_type": "code",
   "execution_count": 48,
   "metadata": {},
   "outputs": [
    {
     "name": "stderr",
     "output_type": "stream",
     "text": [
      "100%|██████████| 18887/18887 [1:56:51<00:00,  2.69it/s]   \n"
     ]
    }
   ],
   "source": [
    "stations = []\n",
    "with open(\"all_processed.csv\", \"r\") as data_file:\n",
    "    result = list(csv.reader(data_file))\n",
    "    for each_entry in result[1:]:\n",
    "        stations.extend([[(each_entry[0], each_entry[1], each_entry[2], ),(float(each_entry[3]), float(each_entry[4])), (float(each_entry[5]), float(each_entry[6])), (float(each_entry[7]), float(each_entry[8])), (float(each_entry[9]), float(each_entry[10])), (float(each_entry[11]), float(each_entry[12]))]])\n",
    "    data_file.close()\n",
    "\n",
    "stations_info = {}\n",
    "for each_station in tqdm(stations):\n",
    "    station_name = \"-\".join(each_station[0])\n",
    "    # coordinate locations\n",
    "    station_coordinates = each_station[1:5]\n",
    "    station_x_center = mean([station_coordinates[1][0], station_coordinates[3][0]])\n",
    "    station_y_center = mean([station_coordinates[0][1], station_coordinates[2][1]])\n",
    "    station_center = (station_x_center, station_y_center)\n",
    "    # state and city name\n",
    "    respond = requests.request(\"GET\", f\"https://api.weather.gov/points/{station_y_center},{station_x_center}\")\n",
    "    if respond.status_code == 200:\n",
    "        if \"properties\" in respond.json().keys():\n",
    "            if \"city\" in respond.json()[\"properties\"][\"relativeLocation\"][\"properties\"].keys() and \"state\" in respond.json()[\"properties\"][\"relativeLocation\"][\"properties\"].keys():\n",
    "                city = respond.json()[\"properties\"][\"relativeLocation\"][\"properties\"][\"city\"]\n",
    "                state = respond.json()[\"properties\"][\"relativeLocation\"][\"properties\"][\"state\"]\n",
    "                # write information\n",
    "                stations_info[station_name] = {\n",
    "                    \"coordinates\": station_coordinates,\n",
    "                    \"center\": station_center,\n",
    "                    \"relative_location\": {\n",
    "                        \"city\": city,\n",
    "                        \"state\": state\n",
    "                    }\n",
    "                }\n",
    "            else:\n",
    "                stations_info[station_name] = {\n",
    "                \"coordinates\": station_coordinates,\n",
    "                \"center\": station_center,\n",
    "                \"relative_location\": {\n",
    "                    \"city\": \"city not found\",\n",
    "                    \"state\": \"state not found\"\n",
    "                }\n",
    "            }    \n",
    "        else:\n",
    "            stations_info[station_name] = {\n",
    "            \"coordinates\": station_coordinates,\n",
    "            \"center\": station_center,\n",
    "            \"relative_location\": {\n",
    "                \"city\": \"properties not found\",\n",
    "                \"state\": \"properties not found\"\n",
    "            }\n",
    "        }    \n",
    "    else:\n",
    "        stations_info[station_name] = {\n",
    "            \"coordinates\": station_coordinates,\n",
    "            \"center\": station_center,\n",
    "            \"relative_location\": {\n",
    "                \"city\": \"request_failed\",\n",
    "                \"state\": \"request_failed\"\n",
    "            }\n",
    "        }\n",
    "\n",
    "with open('data.json', 'w') as f:\n",
    "    json.dump(stations_info, f)"
   ]
  }
 ],
 "metadata": {
  "interpreter": {
   "hash": "aee8b7b246df8f9039afb4144a1f6fd8d2ca17a180786b69acc140d282b71a49"
  },
  "kernelspec": {
   "display_name": "Python 3.10.4 64-bit",
   "language": "python",
   "name": "python3"
  },
  "language_info": {
   "codemirror_mode": {
    "name": "ipython",
    "version": 3
   },
   "file_extension": ".py",
   "mimetype": "text/x-python",
   "name": "python",
   "nbconvert_exporter": "python",
   "pygments_lexer": "ipython3",
   "version": "3.10.4"
  },
  "orig_nbformat": 4
 },
 "nbformat": 4,
 "nbformat_minor": 2
}
