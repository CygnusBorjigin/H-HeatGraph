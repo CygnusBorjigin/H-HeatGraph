{
 "cells": [
  {
   "cell_type": "code",
   "execution_count": 11,
   "metadata": {},
   "outputs": [],
   "source": [
    "import requests\n",
    "import json\n",
    "from tqdm import tqdm\n",
    "import csv\n",
    "from statistics import mean\n",
    "import matplotlib.pyplot as plt"
   ]
  },
  {
   "cell_type": "code",
   "execution_count": 95,
   "metadata": {},
   "outputs": [],
   "source": [
    "available_cor = [(a * 0.01, b * 0.01) for a in range(4098, 4733, 2) for b in range(-7372, -6695, 2)]"
   ]
  },
  {
   "cell_type": "code",
   "execution_count": 96,
   "metadata": {},
   "outputs": [],
   "source": [
    "available_cor_1 = available_cor[:10000]\n",
    "available_cor_2 = available_cor[10000:20000]\n",
    "available_cor_3 = available_cor[20000:30000]\n",
    "available_cor_4 = available_cor[30000:40000]\n",
    "available_cor_5 = available_cor[40000:50000]\n",
    "available_cor_6 = available_cor[50000:60000]\n",
    "available_cor_7 = available_cor[60000:70000]\n",
    "available_cor_8 = available_cor[70000:80000]\n",
    "available_cor_9 = available_cor[80000:90000]\n",
    "available_cor_10 = available_cor[90000:100000]\n",
    "available_cor_11 = available_cor[100000:]"
   ]
  },
  {
   "cell_type": "markdown",
   "metadata": {},
   "source": [
    "# The first section"
   ]
  },
  {
   "cell_type": "code",
   "execution_count": 9,
   "metadata": {},
   "outputs": [
    {
     "name": "stderr",
     "output_type": "stream",
     "text": [
      "100%|██████████| 10000/10000 [40:17<00:00,  4.14it/s]  \n"
     ]
    }
   ],
   "source": [
    "available_station_1 = {}\n",
    "for each_cor in tqdm(available_cor_1):\n",
    "    response = requests.request(\"GET\", f\"https://api.weather.gov/points/{each_cor[0]},{each_cor[1]}\")\n",
    "    result = response.json()\n",
    "    if response.status_code == 200:\n",
    "        station_name = result[\"properties\"][\"gridId\"]\n",
    "        x_cor = result[\"properties\"][\"gridX\"]\n",
    "        y_cor = result[\"properties\"][\"gridY\"]\n",
    "\n",
    "        if station_name not in available_station_1.keys():\n",
    "            available_station_1[station_name] = [(x_cor, y_cor)]\n",
    "        else:\n",
    "            if (x_cor, y_cor) not in available_station_1[station_name]:\n",
    "                available_station_1[station_name].append((x_cor, y_cor))\n",
    "\n",
    "\n",
    "with open('weather_station_new_england_1.json', 'w') as data_file:\n",
    "    json.dump(available_station_1, data_file)"
   ]
  },
  {
   "cell_type": "markdown",
   "metadata": {},
   "source": [
    "# Section 2"
   ]
  },
  {
   "cell_type": "code",
   "execution_count": 10,
   "metadata": {},
   "outputs": [
    {
     "name": "stderr",
     "output_type": "stream",
     "text": [
      "100%|██████████| 10000/10000 [24:07<00:00,  6.91it/s] \n"
     ]
    }
   ],
   "source": [
    "available_station_2 = {}\n",
    "for each_cor in tqdm(available_cor_2):\n",
    "    response = requests.request(\"GET\", f\"https://api.weather.gov/points/{each_cor[0]},{each_cor[1]}\")\n",
    "    result = response.json()\n",
    "    if response.status_code == 200:\n",
    "        station_name = result[\"properties\"][\"gridId\"]\n",
    "        x_cor = result[\"properties\"][\"gridX\"]\n",
    "        y_cor = result[\"properties\"][\"gridY\"]\n",
    "\n",
    "        if station_name not in available_station_2.keys():\n",
    "            available_station_2[station_name] = [(x_cor, y_cor)]\n",
    "        else:\n",
    "            if (x_cor, y_cor) not in available_station_2[station_name]:\n",
    "                available_station_2[station_name].append((x_cor, y_cor))\n",
    "\n",
    "\n",
    "with open('weather_station_new_england_2.json', 'w') as data_file:\n",
    "    json.dump(available_station_2, data_file) "
   ]
  },
  {
   "cell_type": "markdown",
   "metadata": {},
   "source": [
    "# Section 3"
   ]
  },
  {
   "cell_type": "code",
   "execution_count": 11,
   "metadata": {},
   "outputs": [
    {
     "name": "stderr",
     "output_type": "stream",
     "text": [
      "100%|██████████| 10000/10000 [27:39<00:00,  6.03it/s] \n"
     ]
    }
   ],
   "source": [
    "available_station_3 = {}\n",
    "for each_cor in tqdm(available_cor_3):\n",
    "    response = requests.request(\"GET\", f\"https://api.weather.gov/points/{each_cor[0]},{each_cor[1]}\")\n",
    "    result = response.json()\n",
    "    if response.status_code == 200:\n",
    "        station_name = result[\"properties\"][\"gridId\"]\n",
    "        x_cor = result[\"properties\"][\"gridX\"]\n",
    "        y_cor = result[\"properties\"][\"gridY\"]\n",
    "\n",
    "        if station_name not in available_station_3.keys():\n",
    "            available_station_3[station_name] = [(x_cor, y_cor)]\n",
    "        else:\n",
    "            if (x_cor, y_cor) not in available_station_3[station_name]:\n",
    "                available_station_3[station_name].append((x_cor, y_cor))\n",
    "\n",
    "\n",
    "with open('weather_station_new_england_3.json', 'w') as data_file:\n",
    "    json.dump(available_station_3, data_file) "
   ]
  },
  {
   "cell_type": "markdown",
   "metadata": {},
   "source": [
    "# Section 4"
   ]
  },
  {
   "cell_type": "code",
   "execution_count": 12,
   "metadata": {},
   "outputs": [
    {
     "name": "stderr",
     "output_type": "stream",
     "text": [
      "100%|██████████| 10000/10000 [27:08<00:00,  6.14it/s] \n"
     ]
    }
   ],
   "source": [
    "available_station_4 = {}\n",
    "for each_cor in tqdm(available_cor_4):\n",
    "    response = requests.request(\"GET\", f\"https://api.weather.gov/points/{each_cor[0]},{each_cor[1]}\")\n",
    "    result = response.json()\n",
    "    if response.status_code == 200:\n",
    "        station_name = result[\"properties\"][\"gridId\"]\n",
    "        x_cor = result[\"properties\"][\"gridX\"]\n",
    "        y_cor = result[\"properties\"][\"gridY\"]\n",
    "\n",
    "        if station_name not in available_station_4.keys():\n",
    "            available_station_4[station_name] = [(x_cor, y_cor)]\n",
    "        else:\n",
    "            if (x_cor, y_cor) not in available_station_4[station_name]:\n",
    "                available_station_4[station_name].append((x_cor, y_cor))\n",
    "\n",
    "\n",
    "with open('weather_station_new_england_4.json', 'w') as data_file:\n",
    "    json.dump(available_station_4, data_file) "
   ]
  },
  {
   "cell_type": "markdown",
   "metadata": {},
   "source": [
    "# Section 5"
   ]
  },
  {
   "cell_type": "code",
   "execution_count": 15,
   "metadata": {},
   "outputs": [
    {
     "name": "stderr",
     "output_type": "stream",
     "text": [
      "100%|██████████| 10000/10000 [20:54<00:00,  7.97it/s] \n"
     ]
    }
   ],
   "source": [
    "available_station_5 = {}\n",
    "for each_cor in tqdm(available_cor_5):\n",
    "    response = requests.request(\"GET\", f\"https://api.weather.gov/points/{each_cor[0]},{each_cor[1]}\")\n",
    "    result = response.json()\n",
    "    if response.status_code == 200:\n",
    "        station_name = result[\"properties\"][\"gridId\"]\n",
    "        x_cor = result[\"properties\"][\"gridX\"]\n",
    "        y_cor = result[\"properties\"][\"gridY\"]\n",
    "\n",
    "        if station_name not in available_station_5.keys():\n",
    "            available_station_5[station_name] = [(x_cor, y_cor)]\n",
    "        else:\n",
    "            if (x_cor, y_cor) not in available_station_5[station_name]:\n",
    "                available_station_5[station_name].append((x_cor, y_cor))\n",
    "\n",
    "\n",
    "with open('weather_station_new_england_5.json', 'w') as data_file:\n",
    "    json.dump(available_station_5, data_file) "
   ]
  },
  {
   "cell_type": "code",
   "execution_count": 16,
   "metadata": {},
   "outputs": [
    {
     "name": "stderr",
     "output_type": "stream",
     "text": [
      "100%|██████████| 10000/10000 [24:16<00:00,  6.87it/s] \n"
     ]
    }
   ],
   "source": [
    "available_station_6 = {}\n",
    "for each_cor in tqdm(available_cor_6):\n",
    "    response = requests.request(\"GET\", f\"https://api.weather.gov/points/{each_cor[0]},{each_cor[1]}\")\n",
    "    result = response.json()\n",
    "    if response.status_code == 200:\n",
    "        station_name = result[\"properties\"][\"gridId\"]\n",
    "        x_cor = result[\"properties\"][\"gridX\"]\n",
    "        y_cor = result[\"properties\"][\"gridY\"]\n",
    "\n",
    "        if station_name not in available_station_6.keys():\n",
    "            available_station_6[station_name] = [(x_cor, y_cor)]\n",
    "        else:\n",
    "            if (x_cor, y_cor) not in available_station_6[station_name]:\n",
    "                available_station_6[station_name].append((x_cor, y_cor))\n",
    "\n",
    "\n",
    "with open('weather_station_new_england_6.json', 'w') as data_file:\n",
    "    json.dump(available_station_6, data_file) "
   ]
  },
  {
   "cell_type": "code",
   "execution_count": 97,
   "metadata": {},
   "outputs": [
    {
     "name": "stderr",
     "output_type": "stream",
     "text": [
      "100%|██████████| 10000/10000 [41:43<00:00,  3.99it/s] \n"
     ]
    }
   ],
   "source": [
    "available_station_7 = {}\n",
    "for each_cor in tqdm(available_cor_7):\n",
    "    response = requests.request(\"GET\", f\"https://api.weather.gov/points/{each_cor[0]},{each_cor[1]}\")\n",
    "    result = response.json()\n",
    "    if response.status_code == 200:\n",
    "        station_name = result[\"properties\"][\"gridId\"]\n",
    "        x_cor = result[\"properties\"][\"gridX\"]\n",
    "        y_cor = result[\"properties\"][\"gridY\"]\n",
    "\n",
    "        if station_name not in available_station_7.keys():\n",
    "            available_station_7[station_name] = [(x_cor, y_cor)]\n",
    "        else:\n",
    "            if (x_cor, y_cor) not in available_station_7[station_name]:\n",
    "                available_station_7[station_name].append((x_cor, y_cor))\n",
    "\n",
    "\n",
    "with open('weather_station_new_england_7.json', 'w') as data_file:\n",
    "    json.dump(available_station_7, data_file) "
   ]
  },
  {
   "cell_type": "code",
   "execution_count": 107,
   "metadata": {},
   "outputs": [
    {
     "name": "stderr",
     "output_type": "stream",
     "text": [
      "100%|██████████| 10000/10000 [48:20<00:00,  3.45it/s]  \n"
     ]
    }
   ],
   "source": [
    "available_station_8 = {}\n",
    "for each_cor in tqdm(available_cor_8):\n",
    "    response = requests.request(\"GET\", f\"https://api.weather.gov/points/{each_cor[0]},{each_cor[1]}\")\n",
    "    result = response.json()\n",
    "    if response.status_code == 200:\n",
    "        station_name = result[\"properties\"][\"gridId\"]\n",
    "        x_cor = result[\"properties\"][\"gridX\"]\n",
    "        y_cor = result[\"properties\"][\"gridY\"]\n",
    "\n",
    "        if station_name not in available_station_8.keys():\n",
    "            available_station_8[station_name] = [(x_cor, y_cor)]\n",
    "        else:\n",
    "            if (x_cor, y_cor) not in available_station_8[station_name]:\n",
    "                available_station_8[station_name].append((x_cor, y_cor))\n",
    "\n",
    "\n",
    "with open('weather_station_new_england_8.json', 'w') as data_file:\n",
    "    json.dump(available_station_8, data_file) "
   ]
  },
  {
   "cell_type": "code",
   "execution_count": 106,
   "metadata": {},
   "outputs": [
    {
     "data": {
      "text/plain": [
       "<Response [404]>"
      ]
     },
     "execution_count": 106,
     "metadata": {},
     "output_type": "execute_result"
    }
   ],
   "source": [
    "response = requests.request(\"GET\", f\"https://api.weather.gov/points/45.52,-73.16\")\n",
    "response"
   ]
  },
  {
   "cell_type": "code",
   "execution_count": null,
   "metadata": {},
   "outputs": [],
   "source": [
    "available_station_9 = {}\n",
    "for each_cor in tqdm(available_cor_9):\n",
    "    response = requests.request(\"GET\", f\"https://api.weather.gov/points/{each_cor[0]},{each_cor[1]}\")\n",
    "    result = response.json()\n",
    "    if response.status_code == 200:\n",
    "        station_name = result[\"properties\"][\"gridId\"]\n",
    "        x_cor = result[\"properties\"][\"gridX\"]\n",
    "        y_cor = result[\"properties\"][\"gridY\"]\n",
    "\n",
    "        if station_name not in available_station_9.keys():\n",
    "            available_station_9[station_name] = [(x_cor, y_cor)]\n",
    "        else:\n",
    "            if (x_cor, y_cor) not in available_station_9[station_name]:\n",
    "                available_station_9[station_name].append((x_cor, y_cor))\n",
    "\n",
    "\n",
    "with open('weather_station_new_england_9.json', 'w') as data_file:\n",
    "    json.dump(available_station_9, data_file) "
   ]
  },
  {
   "cell_type": "code",
   "execution_count": null,
   "metadata": {},
   "outputs": [],
   "source": [
    "available_station_10 = {}\n",
    "for each_cor in tqdm(available_cor_10):\n",
    "    response = requests.request(\"GET\", f\"https://api.weather.gov/points/{each_cor[0]},{each_cor[1]}\")\n",
    "    result = response.json()\n",
    "    if response.status_code == 200:\n",
    "        station_name = result[\"properties\"][\"gridId\"]\n",
    "        x_cor = result[\"properties\"][\"gridX\"]\n",
    "        y_cor = result[\"properties\"][\"gridY\"]\n",
    "\n",
    "        if station_name not in available_station_10.keys():\n",
    "            available_station_10[station_name] = [(x_cor, y_cor)]\n",
    "        else:\n",
    "            if (x_cor, y_cor) not in available_station_10[station_name]:\n",
    "                available_station_10[station_name].append((x_cor, y_cor))\n",
    "\n",
    "\n",
    "with open('weather_station_new_england_10.json', 'w') as data_file:\n",
    "    json.dump(available_station_10, data_file) "
   ]
  },
  {
   "cell_type": "code",
   "execution_count": null,
   "metadata": {},
   "outputs": [],
   "source": [
    "available_station_11 = {}\n",
    "for each_cor in tqdm(available_cor_11):\n",
    "    response = requests.request(\"GET\", f\"https://api.weather.gov/points/{each_cor[0]},{each_cor[1]}\")\n",
    "    result = response.json()\n",
    "    if response.status_code == 200:\n",
    "        station_name = result[\"properties\"][\"gridId\"]\n",
    "        x_cor = result[\"properties\"][\"gridX\"]\n",
    "        y_cor = result[\"properties\"][\"gridY\"]\n",
    "\n",
    "        if station_name not in available_station_11.keys():\n",
    "            available_station_11[station_name] = [(x_cor, y_cor)]\n",
    "        else:\n",
    "            if (x_cor, y_cor) not in available_station_11[station_name]:\n",
    "                available_station_11[station_name].append((x_cor, y_cor))\n",
    "\n",
    "\n",
    "with open('weather_station_new_england_11.json', 'w') as data_file:\n",
    "    json.dump(available_station_11, data_file) "
   ]
  },
  {
   "cell_type": "markdown",
   "metadata": {},
   "source": [
    "# Filter Weather Stations ID"
   ]
  },
  {
   "cell_type": "markdown",
   "metadata": {},
   "source": [
    "## Filter unique weather station"
   ]
  },
  {
   "cell_type": "code",
   "execution_count": 110,
   "metadata": {},
   "outputs": [],
   "source": [
    "all_weather_stations = []\n",
    "for i in range(11):\n",
    "    with open(f\"weather_station_new_england_{i+1}.json\", 'r') as data_file:\n",
    "        data = json.load(data_file)\n",
    "        all_weather_stations.append(data)\n",
    "        data_file.close()"
   ]
  },
  {
   "cell_type": "code",
   "execution_count": 111,
   "metadata": {},
   "outputs": [
    {
     "data": {
      "text/plain": [
       "11"
      ]
     },
     "execution_count": 111,
     "metadata": {},
     "output_type": "execute_result"
    }
   ],
   "source": [
    "len(all_weather_stations)"
   ]
  },
  {
   "cell_type": "code",
   "execution_count": 118,
   "metadata": {},
   "outputs": [
    {
     "data": {
      "text/plain": [
       "[[None, None]]"
      ]
     },
     "execution_count": 118,
     "metadata": {},
     "output_type": "execute_result"
    }
   ],
   "source": [
    "weather_station_unique = {}\n",
    "for each_section in all_weather_stations:\n",
    "    offices = each_section.keys()\n",
    "    for each_office in offices:\n",
    "        if each_office not in weather_station_unique.keys():\n",
    "            weather_station_unique[each_office] = []\n",
    "        else:\n",
    "            all_grid = each_section[each_office]\n",
    "            for each_grid in all_grid:\n",
    "                if each_grid not in weather_station_unique[each_office]:\n",
    "                    weather_station_unique[each_office].append(each_grid)\\\n",
    "\n",
    "weather_station_unique.pop(\"null\")"
   ]
  },
  {
   "cell_type": "code",
   "execution_count": 120,
   "metadata": {},
   "outputs": [],
   "source": [
    "with open(\"all_weather_station.json\", \"w\") as data_file:\n",
    "    json.dump(weather_station_unique, data_file)"
   ]
  },
  {
   "cell_type": "markdown",
   "metadata": {},
   "source": [
    "## Obtain the coordinates of each weather station"
   ]
  },
  {
   "cell_type": "code",
   "execution_count": 121,
   "metadata": {},
   "outputs": [],
   "source": [
    "stations = {}\n",
    "with open(\"all_weather_station.json\", \"r\") as data_file:\n",
    "    stations = json.load(data_file)"
   ]
  },
  {
   "cell_type": "code",
   "execution_count": 154,
   "metadata": {},
   "outputs": [
    {
     "data": {
      "text/plain": [
       "dict_keys(['OKX', 'BOX', 'ALY', 'GYX', 'BTV', 'CAR'])"
      ]
     },
     "execution_count": 154,
     "metadata": {},
     "output_type": "execute_result"
    }
   ],
   "source": [
    "stations.keys()"
   ]
  },
  {
   "cell_type": "code",
   "execution_count": 163,
   "metadata": {},
   "outputs": [
    {
     "name": "stderr",
     "output_type": "stream",
     "text": [
      "100%|██████████| 133/133 [00:08<00:00, 16.48it/s]\n"
     ]
    }
   ],
   "source": [
    "map_corrdinate = stations[\"OKX\"]\n",
    "\n",
    "cor_result = []\n",
    "for each_coordinate in tqdm(map_corrdinate):\n",
    "    response = requests.request(\"GET\", f\"https://api.weather.gov/gridpoints/OKX/{each_coordinate[0]},{each_coordinate[1]}\")\n",
    "    result = response.json()\n",
    "    if \"geometry\" in result.keys():\n",
    "        cor_result.append((\"OKX\", each_coordinate, result[\"geometry\"][\"coordinates\"]))"
   ]
  },
  {
   "cell_type": "code",
   "execution_count": 175,
   "metadata": {},
   "outputs": [
    {
     "name": "stderr",
     "output_type": "stream",
     "text": [
      "100%|██████████| 133/133 [00:19<00:00,  6.93it/s]\n"
     ]
    }
   ],
   "source": [
    "grid_points_okx = stations[\"OKX\"]\n",
    "okx_cleaned = [(\"Station Name\", \"Grid Coordinates\", \"Coordinates\")]\n",
    "for each_point in tqdm(grid_points_okx):\n",
    "    response = requests.request(\"GET\", f\"https://api.weather.gov/gridpoints/OKX/{each_point[0]},{each_point[1]}\")\n",
    "    result = response.json()\n",
    "    if \"geometry\" in result.keys():\n",
    "        okx_cleaned.append((\"OKX\", each_point, result[\"geometry\"][\"coordinates\"]))\n",
    "\n",
    "with open(\"okx_cleaned.csv\", \"w\") as data_file:\n",
    "    writer = csv.writer(data_file)\n",
    "    writer.writerows(okx_cleaned)"
   ]
  },
  {
   "cell_type": "code",
   "execution_count": 179,
   "metadata": {},
   "outputs": [
    {
     "name": "stderr",
     "output_type": "stream",
     "text": [
      "100%|██████████| 6269/6269 [43:07<00:00,  2.42it/s]  \n"
     ]
    }
   ],
   "source": [
    "grid_points_box = stations[\"BOX\"]\n",
    "box_cleaned = [(\"Station Name\", \"Grid Coordinates\", \"Coordinates\")]\n",
    "for each_point in tqdm(grid_points_box):\n",
    "    response = requests.request(\"GET\", f\"https://api.weather.gov/gridpoints/BOX/{each_point[0]},{each_point[1]}\")\n",
    "    result = response.json()\n",
    "    if \"geometry\" in result.keys():\n",
    "        box_cleaned.append((\"BOX\", each_point, result[\"geometry\"][\"coordinates\"]))\n",
    "\n",
    "with open(\"box_cleaned.csv\", \"w\") as data_file:\n",
    "    writer = csv.writer(data_file)\n",
    "    writer.writerows(box_cleaned)"
   ]
  },
  {
   "cell_type": "code",
   "execution_count": 180,
   "metadata": {},
   "outputs": [
    {
     "name": "stderr",
     "output_type": "stream",
     "text": [
      "100%|██████████| 2765/2765 [18:18<00:00,  2.52it/s]  \n"
     ]
    }
   ],
   "source": [
    "grid_points_aly = stations[\"ALY\"]\n",
    "aly_cleaned = [(\"Station Name\", \"Grid Coordinates\", \"Coordinates\")]\n",
    "for each_point in tqdm(grid_points_aly):\n",
    "    response = requests.request(\"GET\", f\"https://api.weather.gov/gridpoints/ALY/{each_point[0]},{each_point[1]}\")\n",
    "    result = response.json()\n",
    "    if \"geometry\" in result.keys():\n",
    "        aly_cleaned.append((\"ALY\", each_point, result[\"geometry\"][\"coordinates\"]))\n",
    "\n",
    "with open(\"aly_cleaned.csv\", \"w\") as data_file:\n",
    "    writer = csv.writer(data_file)\n",
    "    writer.writerows(aly_cleaned)"
   ]
  },
  {
   "cell_type": "code",
   "execution_count": 181,
   "metadata": {},
   "outputs": [
    {
     "name": "stderr",
     "output_type": "stream",
     "text": [
      "100%|██████████| 11813/11813 [1:14:04<00:00,  2.66it/s]  \n"
     ]
    }
   ],
   "source": [
    "grid_points_gyx = stations[\"GYX\"]\n",
    "gyx_cleaned = [(\"Station Name\", \"Grid Coordinates\", \"Coordinates\")]\n",
    "for each_point in tqdm(grid_points_gyx):\n",
    "    response = requests.request(\"GET\", f\"https://api.weather.gov/gridpoints/GYX/{each_point[0]},{each_point[1]}\")\n",
    "    result = response.json()\n",
    "    if \"geometry\" in result.keys():\n",
    "        gyx_cleaned.append((\"GYX\", each_point, result[\"geometry\"][\"coordinates\"]))\n",
    "\n",
    "with open(\"gyx_cleaned.csv\", \"w\") as data_file:\n",
    "    writer = csv.writer(data_file)\n",
    "    writer.writerows(gyx_cleaned)"
   ]
  },
  {
   "cell_type": "code",
   "execution_count": 182,
   "metadata": {},
   "outputs": [
    {
     "name": "stderr",
     "output_type": "stream",
     "text": [
      "100%|██████████| 4337/4337 [26:15<00:00,  2.75it/s]  \n"
     ]
    }
   ],
   "source": [
    "grid_points_btv = stations[\"BTV\"]\n",
    "btv_cleaned = [(\"Station Name\", \"Grid Coordinates\", \"Coordinates\")]\n",
    "for each_point in tqdm(grid_points_btv):\n",
    "    response = requests.request(\"GET\", f\"https://api.weather.gov/gridpoints/BTV/{each_point[0]},{each_point[1]}\")\n",
    "    result = response.json()\n",
    "    if \"geometry\" in result.keys():\n",
    "        btv_cleaned.append((\"BTV\", each_point, result[\"geometry\"][\"coordinates\"]))\n",
    "\n",
    "with open(\"btv_cleaned.csv\", \"w\") as data_file:\n",
    "    writer = csv.writer(data_file)\n",
    "    writer.writerows(btv_cleaned)"
   ]
  },
  {
   "cell_type": "code",
   "execution_count": 183,
   "metadata": {},
   "outputs": [
    {
     "name": "stderr",
     "output_type": "stream",
     "text": [
      "100%|██████████| 10545/10545 [1:09:14<00:00,  2.54it/s] \n"
     ]
    }
   ],
   "source": [
    "grid_points_car = stations[\"CAR\"]\n",
    "car_cleaned = [(\"Station Name\", \"Grid Coordinates\", \"Coordinates\")]\n",
    "for each_point in tqdm(grid_points_car):\n",
    "    response = requests.request(\"GET\", f\"https://api.weather.gov/gridpoints/CAR/{each_point[0]},{each_point[1]}\")\n",
    "    result = response.json()\n",
    "    if \"geometry\" in result.keys():\n",
    "        car_cleaned.append((\"CAR\", each_point, result[\"geometry\"][\"coordinates\"]))\n",
    "\n",
    "with open(\"car_cleaned.csv\", \"w\") as data_file:\n",
    "    writer = csv.writer(data_file)\n",
    "    writer.writerows(car_cleaned)"
   ]
  },
  {
   "cell_type": "code",
   "execution_count": 217,
   "metadata": {},
   "outputs": [
    {
     "data": {
      "text/plain": [
       "[-73.6674676, 41.5933297]"
      ]
     },
     "execution_count": 217,
     "metadata": {},
     "output_type": "execute_result"
    }
   ],
   "source": [
    "aly_cleaned[1][2][0][4]"
   ]
  },
  {
   "cell_type": "code",
   "execution_count": 220,
   "metadata": {},
   "outputs": [],
   "source": [
    "aly_processed = [(\"Station\", \"coordinate_x\", \"coordinate_y\", \"cor_1_x\", \"cor_1_y\", \"cor_2_x\", \"cor_2_y\", \"cor_3_x\", \"cor_3_y\", \"cor_4_x\", \"cor_4_y\", \"cor_5_x\", \"cor_5_y\", )]\n",
    "for each_entry in aly_cleaned[1:]:\n",
    "    temp = [each_entry[0], each_entry[1][0], each_entry[1][1], each_entry[2][0][0][0], each_entry[2][0][0][1], each_entry[2][0][1][0], each_entry[2][0][1][1], each_entry[2][0][2][0], each_entry[2][0][2][1], each_entry[2][0][3][0], each_entry[2][0][3][1], each_entry[2][0][4][0], each_entry[2][0][4][1]]\n",
    "    aly_processed.append(temp)\n",
    "\n",
    "with open(\"aly_processed.csv\", \"w\") as data_file:\n",
    "    writer = csv.writer(data_file)\n",
    "    writer.writerows(aly_processed)"
   ]
  },
  {
   "cell_type": "code",
   "execution_count": 221,
   "metadata": {},
   "outputs": [],
   "source": [
    "box_processed = [(\"Station\", \"coordinate_x\", \"coordinate_y\", \"cor_1_x\", \"cor_1_y\", \"cor_2_x\", \"cor_2_y\", \"cor_3_x\", \"cor_3_y\", \"cor_4_x\", \"cor_4_y\", \"cor_5_x\", \"cor_5_y\", )]\n",
    "for each_entry in box_cleaned[1:]:\n",
    "    temp = [each_entry[0], each_entry[1][0], each_entry[1][1], each_entry[2][0][0][0], each_entry[2][0][0][1], each_entry[2][0][1][0], each_entry[2][0][1][1], each_entry[2][0][2][0], each_entry[2][0][2][1], each_entry[2][0][3][0], each_entry[2][0][3][1], each_entry[2][0][4][0], each_entry[2][0][4][1]]\n",
    "    box_processed.append(temp)\n",
    "\n",
    "with open(\"box_processed.csv\", \"w\") as data_file:\n",
    "    writer = csv.writer(data_file)\n",
    "    writer.writerows(box_processed)\n",
    "\n",
    "btv_processed = [(\"Station\", \"coordinate_x\", \"coordinate_y\", \"cor_1_x\", \"cor_1_y\", \"cor_2_x\", \"cor_2_y\", \"cor_3_x\", \"cor_3_y\", \"cor_4_x\", \"cor_4_y\", \"cor_5_x\", \"cor_5_y\", )]\n",
    "for each_entry in btv_cleaned[1:]:\n",
    "    temp = [each_entry[0], each_entry[1][0], each_entry[1][1], each_entry[2][0][0][0], each_entry[2][0][0][1], each_entry[2][0][1][0], each_entry[2][0][1][1], each_entry[2][0][2][0], each_entry[2][0][2][1], each_entry[2][0][3][0], each_entry[2][0][3][1], each_entry[2][0][4][0], each_entry[2][0][4][1]]\n",
    "    btv_processed.append(temp)\n",
    "\n",
    "with open(\"btv_processed.csv\", \"w\") as data_file:\n",
    "    writer = csv.writer(data_file)\n",
    "    writer.writerows(btv_processed)\n",
    "\n",
    "car_processed = [(\"Station\", \"coordinate_x\", \"coordinate_y\", \"cor_1_x\", \"cor_1_y\", \"cor_2_x\", \"cor_2_y\", \"cor_3_x\", \"cor_3_y\", \"cor_4_x\", \"cor_4_y\", \"cor_5_x\", \"cor_5_y\", )]\n",
    "for each_entry in car_cleaned[1:]:\n",
    "    temp = [each_entry[0], each_entry[1][0], each_entry[1][1], each_entry[2][0][0][0], each_entry[2][0][0][1], each_entry[2][0][1][0], each_entry[2][0][1][1], each_entry[2][0][2][0], each_entry[2][0][2][1], each_entry[2][0][3][0], each_entry[2][0][3][1], each_entry[2][0][4][0], each_entry[2][0][4][1]]\n",
    "    car_processed.append(temp)\n",
    "\n",
    "with open(\"car_processed.csv\", \"w\") as data_file:\n",
    "    writer = csv.writer(data_file)\n",
    "    writer.writerows(car_processed)\n",
    "\n",
    "gyx_processed = [(\"Station\", \"coordinate_x\", \"coordinate_y\", \"cor_1_x\", \"cor_1_y\", \"cor_2_x\", \"cor_2_y\", \"cor_3_x\", \"cor_3_y\", \"cor_4_x\", \"cor_4_y\", \"cor_5_x\", \"cor_5_y\", )]\n",
    "for each_entry in gyx_cleaned[1:]:\n",
    "    temp = [each_entry[0], each_entry[1][0], each_entry[1][1], each_entry[2][0][0][0], each_entry[2][0][0][1], each_entry[2][0][1][0], each_entry[2][0][1][1], each_entry[2][0][2][0], each_entry[2][0][2][1], each_entry[2][0][3][0], each_entry[2][0][3][1], each_entry[2][0][4][0], each_entry[2][0][4][1]]\n",
    "    gyx_processed.append(temp)\n",
    "\n",
    "with open(\"gyx_processed.csv\", \"w\") as data_file:\n",
    "    writer = csv.writer(data_file)\n",
    "    writer.writerows(gyx_processed)\n",
    "\n",
    "okx_processed = [(\"Station\", \"coordinate_x\", \"coordinate_y\", \"cor_1_x\", \"cor_1_y\", \"cor_2_x\", \"cor_2_y\", \"cor_3_x\", \"cor_3_y\", \"cor_4_x\", \"cor_4_y\", \"cor_5_x\", \"cor_5_y\", )]\n",
    "for each_entry in okx_cleaned[1:]:\n",
    "    temp = [each_entry[0], each_entry[1][0], each_entry[1][1], each_entry[2][0][0][0], each_entry[2][0][0][1], each_entry[2][0][1][0], each_entry[2][0][1][1], each_entry[2][0][2][0], each_entry[2][0][2][1], each_entry[2][0][3][0], each_entry[2][0][3][1], each_entry[2][0][4][0], each_entry[2][0][4][1]]\n",
    "    okx_processed.append(temp)\n",
    "\n",
    "with open(\"okx_processed.csv\", \"w\") as data_file:\n",
    "    writer = csv.writer(data_file)\n",
    "    writer.writerows(okx_processed)\n",
    "\n"
   ]
  },
  {
   "cell_type": "code",
   "execution_count": 239,
   "metadata": {},
   "outputs": [],
   "source": [
    "all_processed = [(\"Station\", \"coordinate_x\", \"coordinate_y\", \"cor_1_x\", \"cor_1_y\", \"cor_2_x\", \"cor_2_y\", \"cor_3_x\", \"cor_3_y\", \"cor_4_x\", \"cor_4_y\", \"cor_5_x\", \"cor_5_y\", )]\n",
    "\n",
    "with open(\"aly_processed.csv\", \"r\") as data_file:\n",
    "    result = list(csv.reader(data_file))\n",
    "    all_processed.extend(result[1:])\n",
    "    data_file.close()\n",
    "\n",
    "with open(\"box_processed.csv\", \"r\") as data_file:\n",
    "    result = list(csv.reader(data_file))\n",
    "    all_processed.extend(result[1:])\n",
    "    data_file.close()\n",
    "\n",
    "with open(\"btv_processed.csv\", \"r\") as data_file:\n",
    "    result = list(csv.reader(data_file))\n",
    "    all_processed.extend(result[1:])\n",
    "    data_file.close()\n",
    "\n",
    "with open(\"car_processed.csv\", \"r\") as data_file:\n",
    "    result = list(csv.reader(data_file))\n",
    "    all_processed.extend(result[1:])\n",
    "    data_file.close()\n",
    "\n",
    "with open(\"gyx_processed.csv\", \"r\") as data_file:\n",
    "    result = list(csv.reader(data_file))\n",
    "    all_processed.extend(result[1:])\n",
    "    data_file.close()\n",
    "\n",
    "with open(\"okx_processed.csv\", \"r\") as data_file:\n",
    "    result = list(csv.reader(data_file))\n",
    "    all_processed.extend(result[1:])\n",
    "    data_file.close()\n",
    "\n",
    "with open(\"all_processed.csv\", \"w\") as data_file:\n",
    "    writer = csv.writer(data_file)\n",
    "    writer.writerows(all_processed)"
   ]
  },
  {
   "cell_type": "code",
   "execution_count": 199,
   "metadata": {},
   "outputs": [],
   "source": [
    "aly_cleaned_raw = aly_cleaned[1:]\n",
    "box_cleaned_raw = box_cleaned[1:]\n",
    "btv_cleaned_raw = btv_cleaned[1:]\n",
    "car_cleaned_raw = car_cleaned[1:]\n",
    "gyx_cleaned_raw = gyx_cleaned[1:]\n",
    "okx_cleaned_raw = okx_cleaned[1:]"
   ]
  },
  {
   "cell_type": "code",
   "execution_count": 207,
   "metadata": {},
   "outputs": [],
   "source": [
    "all_coordinates = []\n",
    "for each_entry in aly_cleaned_raw:\n",
    "    for each_coordinate in each_entry[2][0]:\n",
    "        all_coordinates.append(each_coordinate)\n",
    "\n",
    "for each_entry in box_cleaned_raw:\n",
    "    for each_coordinate in each_entry[2][0]:\n",
    "        all_coordinates.append(each_coordinate)\n",
    "\n",
    "for each_entry in btv_cleaned_raw:\n",
    "    for each_coordinate in each_entry[2][0]:\n",
    "        all_coordinates.append(each_coordinate)\n",
    "\n",
    "for each_entry in car_cleaned_raw:\n",
    "    for each_coordinate in each_entry[2][0]:\n",
    "        all_coordinates.append(each_coordinate)\n",
    "\n",
    "for each_entry in gyx_cleaned_raw:\n",
    "    for each_coordinate in each_entry[2][0]:\n",
    "        all_coordinates.append(each_coordinate)\n",
    "\n",
    "for each_entry in okx_cleaned_raw:\n",
    "    for each_coordinate in each_entry[2][0]:\n",
    "        all_coordinates.append(each_coordinate)"
   ]
  },
  {
   "cell_type": "code",
   "execution_count": 209,
   "metadata": {},
   "outputs": [
    {
     "data": {
      "image/png": "[encoded data removed]",
      "text/plain": [
       "<Figure size 432x288 with 1 Axes>"
      ]
     },
     "metadata": {
      "needs_background": "light"
     },
     "output_type": "display_data"
    }
   ],
   "source": [
    "plt.scatter([i[0] for i in all_coordinates], [i[1] for i in all_coordinates])\n",
    "plt.show()"
   ]
  },
  {
   "cell_type": "code",
   "execution_count": 235,
   "metadata": {},
   "outputs": [],
   "source": [
    "all_coordinates = []\n",
    "with open(\"aly_processed.csv\", \"r\") as data_file:\n",
    "    result = list(csv.reader(data_file))\n",
    "    result_without_title = result[1:]\n",
    "    coordinates = []\n",
    "    for each_entry in result_without_title:\n",
    "        coordinates.extend([(float(each_entry[3]), float(each_entry[4])), (float(each_entry[5]), float(each_entry[6])), (float(each_entry[7]), float(each_entry[8])), (float(each_entry[9]), float(each_entry[10])), (float(each_entry[11]), float(each_entry[12]))])\n",
    "    all_coordinates.extend(coordinates)\n",
    "    data_file.close()\n",
    "\n",
    "with open(\"box_processed.csv\", \"r\") as data_file:\n",
    "    result = list(csv.reader(data_file))\n",
    "    result_without_title = result[1:]\n",
    "    coordinates = []\n",
    "    for each_entry in result_without_title:\n",
    "        coordinates.extend([(float(each_entry[3]), float(each_entry[4])), (float(each_entry[5]), float(each_entry[6])), (float(each_entry[7]), float(each_entry[8])), (float(each_entry[9]), float(each_entry[10])), (float(each_entry[11]), float(each_entry[12]))])\n",
    "    all_coordinates.extend(coordinates)\n",
    "    data_file.close()\n",
    "\n",
    "with open(\"btv_processed.csv\", \"r\") as data_file:\n",
    "    result = list(csv.reader(data_file))\n",
    "    result_without_title = result[1:]\n",
    "    coordinates = []\n",
    "    for each_entry in result_without_title:\n",
    "        coordinates.extend([(float(each_entry[3]), float(each_entry[4])), (float(each_entry[5]), float(each_entry[6])), (float(each_entry[7]), float(each_entry[8])), (float(each_entry[9]), float(each_entry[10])), (float(each_entry[11]), float(each_entry[12]))])\n",
    "    all_coordinates.extend(coordinates)\n",
    "    data_file.close()\n",
    "\n",
    "with open(\"car_processed.csv\", \"r\") as data_file:\n",
    "    result = list(csv.reader(data_file))\n",
    "    result_without_title = result[1:]\n",
    "    coordinates = []\n",
    "    for each_entry in result_without_title:\n",
    "        coordinates.extend([(float(each_entry[3]), float(each_entry[4])), (float(each_entry[5]), float(each_entry[6])), (float(each_entry[7]), float(each_entry[8])), (float(each_entry[9]), float(each_entry[10])), (float(each_entry[11]), float(each_entry[12]))])\n",
    "    all_coordinates.extend(coordinates)\n",
    "    data_file.close()\n",
    "\n",
    "with open(\"gyx_processed.csv\", \"r\") as data_file:\n",
    "    result = list(csv.reader(data_file))\n",
    "    result_without_title = result[1:]\n",
    "    coordinates = []\n",
    "    for each_entry in result_without_title:\n",
    "        coordinates.extend([(float(each_entry[3]), float(each_entry[4])), (float(each_entry[5]), float(each_entry[6])), (float(each_entry[7]), float(each_entry[8])), (float(each_entry[9]), float(each_entry[10])), (float(each_entry[11]), float(each_entry[12]))])\n",
    "    all_coordinates.extend(coordinates)\n",
    "    data_file.close()\n",
    "\n",
    "with open(\"okx_processed.csv\", \"r\") as data_file:\n",
    "    result = list(csv.reader(data_file))\n",
    "    result_without_title = result[1:]\n",
    "    coordinates = []\n",
    "    for each_entry in result_without_title:\n",
    "        coordinates.extend([(float(each_entry[3]), float(each_entry[4])), (float(each_entry[5]), float(each_entry[6])), (float(each_entry[7]), float(each_entry[8])), (float(each_entry[9]), float(each_entry[10])), (float(each_entry[11]), float(each_entry[12]))])\n",
    "    all_coordinates.extend(coordinates)\n",
    "    data_file.close()"
   ]
  },
  {
   "cell_type": "code",
   "execution_count": 58,
   "metadata": {},
   "outputs": [],
   "source": [
    "weather_station_coordinates = []\n",
    "with open(\"all_processed.csv\", \"r\") as data_file:\n",
    "    result = list(csv.reader(data_file))\n",
    "    for each_entry in result[1:]:\n",
    "        weather_station_coordinates.extend([[(float(each_entry[3]), float(each_entry[4])), (float(each_entry[5]), float(each_entry[6])), (float(each_entry[7]), float(each_entry[8])), (float(each_entry[9]), float(each_entry[10])), (float(each_entry[11]), float(each_entry[12]))]])\n",
    "    data_file.close()\n"
   ]
  },
  {
   "cell_type": "code",
   "execution_count": 245,
   "metadata": {},
   "outputs": [
    {
     "data": {
      "text/plain": [
       "<matplotlib.collections.PathCollection at 0x124b13670>"
      ]
     },
     "execution_count": 245,
     "metadata": {},
     "output_type": "execute_result"
    },
    {
     "data": {
      "image/png": "[encoded data removed]",
      "text/plain": [
       "<Figure size 432x288 with 1 Axes>"
      ]
     },
     "metadata": {
      "needs_background": "light"
     },
     "output_type": "display_data"
    }
   ],
   "source": [
    "plt.scatter([i[0] for i in weather_station_coordinates], [i[1] for i in weather_station_coordinates])"
   ]
  },
  {
   "cell_type": "code",
   "execution_count": 55,
   "metadata": {},
   "outputs": [
    {
     "data": {
      "image/png": "[encoded data removed]",
      "text/plain": [
       "<Figure size 432x288 with 1 Axes>"
      ]
     },
     "metadata": {
      "needs_background": "light"
     },
     "output_type": "display_data"
    }
   ],
   "source": [
    "test = list(weather_station_coordinates[0])\n",
    "plt.scatter([test[0][0]], [test[0][1]], label=\"first\")\n",
    "plt.scatter([test[1][0]], [test[1][1]], label=\"second\")\n",
    "plt.scatter([test[2][0]], [test[2][1]], label=\"third\")\n",
    "plt.scatter([test[3][0]], [test[3][1]], label=\"fourth\")\n",
    "x_center = mean([test[1][0], test[3][0]])\n",
    "y_center = mean([test[0][1], test[2][1]])\n",
    "plt.scatter([x_center], [y_center])\n",
    "plt.legend()\n",
    "plt.show()"
   ]
  },
  {
   "cell_type": "code",
   "execution_count": 59,
   "metadata": {},
   "outputs": [],
   "source": [
    "\n",
    "for each_station in weather_station_coordinates:\n",
    "    x_center = mean([each_station[1][0], each_station[3][0]])\n",
    "    y_center = mean([each_station[0][1], each_station[2][1]])\n",
    "    each_station[4] = (x_center, y_center)"
   ]
  },
  {
   "cell_type": "code",
   "execution_count": 71,
   "metadata": {},
   "outputs": [
    {
     "data": {
      "text/plain": [
       "<matplotlib.collections.PathCollection at 0x12f816b90>"
      ]
     },
     "execution_count": 71,
     "metadata": {},
     "output_type": "execute_result"
    },
    {
     "data": {
      "image/png": "[encoded data removed]",
      "text/plain": [
       "<Figure size 432x288 with 1 Axes>"
      ]
     },
     "metadata": {
      "needs_background": "light"
     },
     "output_type": "display_data"
    }
   ],
   "source": [
    "test = weather_station_coordinates[3000]\n",
    "plt.scatter([i[0] for i in test], [i[1] for i in test])"
   ]
  },
  {
   "cell_type": "code",
   "execution_count": 68,
   "metadata": {},
   "outputs": [
    {
     "name": "stdout",
     "output_type": "stream",
     "text": [
      "ALY-69-10\n"
     ]
    }
   ],
   "source": [
    "station_names = []\n",
    "with open(\"all_processed.csv\", \"r\") as data_file:\n",
    "    result = list(csv.reader(data_file))\n",
    "    for each_station in result[1:]:\n",
    "        station_names.append([each_station[0], each_station[1], each_station[2]])\n",
    "    data_file.close()\n",
    "print(station_names[0][0] + \"-\" + station_names[0][1] + \"-\" + station_names[0][2])"
   ]
  },
  {
   "cell_type": "code",
   "execution_count": 77,
   "metadata": {},
   "outputs": [
    {
     "data": {
      "image/png": "[encoded data removed]",
      "text/plain": [
       "<Figure size 432x288 with 1 Axes>"
      ]
     },
     "metadata": {
      "needs_background": "light"
     },
     "output_type": "display_data"
    }
   ],
   "source": [
    "all_centers = [i[4] for i in weather_station_coordinates]\n",
    "center_mean = (mean([i[0] for i in all_centers]), mean([i[1] for i in all_centers]))\n",
    "all_centers_normalized = [[i[0] - center_mean[0], i[1] - center_mean[1]] for i in all_centers]\n",
    "plt.scatter([i[0] for i in all_centers_normalized], [i[1] for i in all_centers_normalized])\n",
    "plt.show()"
   ]
  },
  {
   "cell_type": "code",
   "execution_count": null,
   "metadata": {},
   "outputs": [],
   "source": [
    "normalized_center = {}\n",
    "\n",
    "for each_index in "
   ]
  }
 ],
 "metadata": {
  "interpreter": {
   "hash": "aee8b7b246df8f9039afb4144a1f6fd8d2ca17a180786b69acc140d282b71a49"
  },
  "kernelspec": {
   "display_name": "Python 3.10.4 64-bit",
   "language": "python",
   "name": "python3"
  },
  "language_info": {
   "codemirror_mode": {
    "name": "ipython",
    "version": 3
   },
   "file_extension": ".py",
   "mimetype": "text/x-python",
   "name": "python",
   "nbconvert_exporter": "python",
   "pygments_lexer": "ipython3",
   "version": "3.10.4"
  },
  "orig_nbformat": 4
 },
 "nbformat": 4,
 "nbformat_minor": 2
}
