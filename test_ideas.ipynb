{
 "cells": [
  {
   "cell_type": "code",
   "execution_count": 7,
   "metadata": {},
   "outputs": [],
   "source": [
    "import requests\n",
    "import json\n",
    "from tqdm import tqdm"
   ]
  },
  {
   "cell_type": "code",
   "execution_count": 1,
   "metadata": {},
   "outputs": [],
   "source": [
    "available_cor = [(a * 0.01, b * 0.01) for a in range(4098, 4733, 2) for b in range(-7372, -6695, 2)]"
   ]
  },
  {
   "cell_type": "code",
   "execution_count": 3,
   "metadata": {},
   "outputs": [],
   "source": [
    "available_cor_1 = available_cor[:10000]\n",
    "available_cor_2 = available_cor[10000:20000]\n",
    "available_cor_3 = available_cor[20000:30000]\n",
    "available_cor_4 = available_cor[30000:40000]\n",
    "available_cor_5 = available_cor[40000:50000]\n",
    "available_cor_6 = available_cor[50000:60000]\n",
    "available_cor_7 = available_cor[60000:70000]\n",
    "available_cor_8 = available_cor[70000:80000]\n",
    "available_cor_9 = available_cor[80000:90000]\n",
    "available_cor_10 = available_cor[90000:100000]\n",
    "available_cor_11 = available_cor[100000:]"
   ]
  },
  {
   "cell_type": "markdown",
   "metadata": {},
   "source": [
    "# The first section"
   ]
  },
  {
   "cell_type": "code",
   "execution_count": 9,
   "metadata": {},
   "outputs": [
    {
     "name": "stderr",
     "output_type": "stream",
     "text": [
      "100%|██████████| 10000/10000 [40:17<00:00,  4.14it/s]  \n"
     ]
    }
   ],
   "source": [
    "available_station_1 = {}\n",
    "for each_cor in tqdm(available_cor_1):\n",
    "    response = requests.request(\"GET\", f\"https://api.weather.gov/points/{each_cor[0]},{each_cor[1]}\")\n",
    "    result = response.json()\n",
    "    if response.status_code == 200:\n",
    "        station_name = result[\"properties\"][\"gridId\"]\n",
    "        x_cor = result[\"properties\"][\"gridX\"]\n",
    "        y_cor = result[\"properties\"][\"gridY\"]\n",
    "\n",
    "        if station_name not in available_station_1.keys():\n",
    "            available_station_1[station_name] = [(x_cor, y_cor)]\n",
    "        else:\n",
    "            if (x_cor, y_cor) not in available_station_1[station_name]:\n",
    "                available_station_1[station_name].append((x_cor, y_cor))\n",
    "\n",
    "\n",
    "with open('weather_station_new_england_1.json', 'w') as data_file:\n",
    "    json.dump(available_station_1, data_file)"
   ]
  },
  {
   "cell_type": "markdown",
   "metadata": {},
   "source": [
    "# Section 2"
   ]
  },
  {
   "cell_type": "code",
   "execution_count": 10,
   "metadata": {},
   "outputs": [
    {
     "name": "stderr",
     "output_type": "stream",
     "text": [
      "100%|██████████| 10000/10000 [24:07<00:00,  6.91it/s] \n"
     ]
    }
   ],
   "source": [
    "available_station_2 = {}\n",
    "for each_cor in tqdm(available_cor_2):\n",
    "    response = requests.request(\"GET\", f\"https://api.weather.gov/points/{each_cor[0]},{each_cor[1]}\")\n",
    "    result = response.json()\n",
    "    if response.status_code == 200:\n",
    "        station_name = result[\"properties\"][\"gridId\"]\n",
    "        x_cor = result[\"properties\"][\"gridX\"]\n",
    "        y_cor = result[\"properties\"][\"gridY\"]\n",
    "\n",
    "        if station_name not in available_station_2.keys():\n",
    "            available_station_2[station_name] = [(x_cor, y_cor)]\n",
    "        else:\n",
    "            if (x_cor, y_cor) not in available_station_2[station_name]:\n",
    "                available_station_2[station_name].append((x_cor, y_cor))\n",
    "\n",
    "\n",
    "with open('weather_station_new_england_2.json', 'w') as data_file:\n",
    "    json.dump(available_station_2, data_file) "
   ]
  },
  {
   "cell_type": "markdown",
   "metadata": {},
   "source": [
    "# Section 3"
   ]
  },
  {
   "cell_type": "code",
   "execution_count": 11,
   "metadata": {},
   "outputs": [
    {
     "name": "stderr",
     "output_type": "stream",
     "text": [
      "100%|██████████| 10000/10000 [27:39<00:00,  6.03it/s] \n"
     ]
    }
   ],
   "source": [
    "available_station_3 = {}\n",
    "for each_cor in tqdm(available_cor_3):\n",
    "    response = requests.request(\"GET\", f\"https://api.weather.gov/points/{each_cor[0]},{each_cor[1]}\")\n",
    "    result = response.json()\n",
    "    if response.status_code == 200:\n",
    "        station_name = result[\"properties\"][\"gridId\"]\n",
    "        x_cor = result[\"properties\"][\"gridX\"]\n",
    "        y_cor = result[\"properties\"][\"gridY\"]\n",
    "\n",
    "        if station_name not in available_station_3.keys():\n",
    "            available_station_3[station_name] = [(x_cor, y_cor)]\n",
    "        else:\n",
    "            if (x_cor, y_cor) not in available_station_3[station_name]:\n",
    "                available_station_3[station_name].append((x_cor, y_cor))\n",
    "\n",
    "\n",
    "with open('weather_station_new_england_3.json', 'w') as data_file:\n",
    "    json.dump(available_station_3, data_file) "
   ]
  }
 ],
 "metadata": {
  "interpreter": {
   "hash": "aee8b7b246df8f9039afb4144a1f6fd8d2ca17a180786b69acc140d282b71a49"
  },
  "kernelspec": {
   "display_name": "Python 3.10.4 64-bit",
   "language": "python",
   "name": "python3"
  },
  "language_info": {
   "codemirror_mode": {
    "name": "ipython",
    "version": 3
   },
   "file_extension": ".py",
   "mimetype": "text/x-python",
   "name": "python",
   "nbconvert_exporter": "python",
   "pygments_lexer": "ipython3",
   "version": "3.10.4"
  },
  "orig_nbformat": 4
 },
 "nbformat": 4,
 "nbformat_minor": 2
}
